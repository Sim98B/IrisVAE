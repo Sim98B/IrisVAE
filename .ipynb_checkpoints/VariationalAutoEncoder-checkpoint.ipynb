{
 "cells": [
  {
   "cell_type": "code",
   "execution_count": 12,
   "id": "2900e530",
   "metadata": {
    "ExecuteTime": {
     "end_time": "2024-12-06T16:03:05.096745Z",
     "start_time": "2024-12-06T16:03:05.091953Z"
    }
   },
   "outputs": [],
   "source": [
    "import numpy as np\n",
    "import pandas as pd\n",
    "import math\n",
    "\n",
    "from sklearn.datasets import load_iris\n",
    "from sklearn.preprocessing import MinMaxScaler, StandardScaler\n",
    "from torch.utils.data import DataLoader, Dataset\n",
    "\n",
    "import torch\n",
    "import torch.nn as nn\n",
    "import torch.nn.functional as F\n",
    "import torch.optim as optim\n",
    "\n",
    "from tqdm.auto import tqdm"
   ]
  },
  {
   "cell_type": "code",
   "execution_count": 2,
   "id": "42c65514",
   "metadata": {
    "ExecuteTime": {
     "end_time": "2024-12-06T16:00:44.954204Z",
     "start_time": "2024-12-06T16:00:44.887712Z"
    }
   },
   "outputs": [
    {
     "name": "stdout",
     "output_type": "stream",
     "text": [
      "Actual device: mps\n"
     ]
    }
   ],
   "source": [
    "if torch.cuda.is_available():\n",
    "    device = torch.device(\"cuda\")\n",
    "elif torch.backends.mps.is_available() and torch.backends.mps.is_built():\n",
    "    device = torch.device(\"mps\")\n",
    "else:\n",
    "    device = torch.device(\"cpu\")\n",
    "    \n",
    "    \n",
    "print(f'Actual device: {device}')"
   ]
  },
  {
   "cell_type": "code",
   "execution_count": 3,
   "id": "83fb42ca",
   "metadata": {
    "ExecuteTime": {
     "end_time": "2024-12-06T16:00:45.694008Z",
     "start_time": "2024-12-06T16:00:45.679699Z"
    }
   },
   "outputs": [
    {
     "data": {
      "text/plain": [
       "array([[0.22222222, 0.625     , 0.06779661, 0.04166667],\n",
       "       [0.16666667, 0.41666667, 0.06779661, 0.04166667],\n",
       "       [0.11111111, 0.5       , 0.05084746, 0.04166667],\n",
       "       [0.08333333, 0.45833333, 0.08474576, 0.04166667],\n",
       "       [0.19444444, 0.66666667, 0.06779661, 0.04166667],\n",
       "       [0.30555556, 0.79166667, 0.11864407, 0.125     ],\n",
       "       [0.08333333, 0.58333333, 0.06779661, 0.08333333],\n",
       "       [0.19444444, 0.58333333, 0.08474576, 0.04166667],\n",
       "       [0.02777778, 0.375     , 0.06779661, 0.04166667],\n",
       "       [0.16666667, 0.45833333, 0.08474576, 0.        ]])"
      ]
     },
     "execution_count": 3,
     "metadata": {},
     "output_type": "execute_result"
    }
   ],
   "source": [
    "X = load_iris()['data']\n",
    "X\n",
    "min_max = MinMaxScaler()\n",
    "X = min_max.fit_transform(X)\n",
    "X[:10]"
   ]
  },
  {
   "cell_type": "code",
   "execution_count": 4,
   "id": "7f5a9f64",
   "metadata": {
    "ExecuteTime": {
     "end_time": "2024-12-06T16:00:46.274878Z",
     "start_time": "2024-12-06T16:00:46.244685Z"
    }
   },
   "outputs": [
    {
     "name": "stdout",
     "output_type": "stream",
     "text": [
      "torch.Size([32, 4])\n",
      "tensor([[0.6667, 0.5417, 0.7966, 1.0000],\n",
      "        [0.1111, 0.5000, 0.0508, 0.0417],\n",
      "        [0.6667, 0.4167, 0.7119, 0.9167],\n",
      "        [0.2500, 0.2917, 0.4915, 0.5417],\n",
      "        [0.1944, 0.5833, 0.1017, 0.1250],\n",
      "        [0.5000, 0.4167, 0.6610, 0.7083],\n",
      "        [0.1667, 0.4583, 0.0847, 0.0000],\n",
      "        [0.3056, 0.7917, 0.0508, 0.1250],\n",
      "        [0.9444, 0.3333, 0.9661, 0.7917],\n",
      "        [0.3333, 0.1667, 0.4576, 0.3750],\n",
      "        [0.3333, 0.2500, 0.5763, 0.4583],\n",
      "        [0.2222, 0.7500, 0.1017, 0.0417],\n",
      "        [0.1667, 0.2083, 0.5932, 0.6667],\n",
      "        [0.8611, 0.3333, 0.8644, 0.7500],\n",
      "        [0.3889, 0.3333, 0.5254, 0.5000],\n",
      "        [0.1667, 0.4167, 0.0678, 0.0417],\n",
      "        [0.6111, 0.5000, 0.6949, 0.7917],\n",
      "        [0.7222, 0.4583, 0.6949, 0.9167],\n",
      "        [0.1944, 0.4167, 0.1017, 0.0417],\n",
      "        [0.0278, 0.5000, 0.0508, 0.0417],\n",
      "        [0.5556, 0.5417, 0.6271, 0.6250],\n",
      "        [0.7222, 0.4583, 0.7458, 0.8333],\n",
      "        [0.3333, 0.1250, 0.5085, 0.5000],\n",
      "        [0.3056, 0.4167, 0.5932, 0.5833],\n",
      "        [0.2778, 0.7083, 0.0847, 0.0417],\n",
      "        [0.6667, 0.4583, 0.5763, 0.5417],\n",
      "        [0.1944, 0.5000, 0.0339, 0.0417],\n",
      "        [0.5556, 0.1250, 0.5763, 0.5000],\n",
      "        [0.6667, 0.2083, 0.8136, 0.7083],\n",
      "        [0.5833, 0.3333, 0.7797, 0.8333],\n",
      "        [0.4167, 0.2500, 0.5085, 0.4583],\n",
      "        [0.8333, 0.3750, 0.8983, 0.7083]])\n"
     ]
    }
   ],
   "source": [
    "class IrisDataset(Dataset):\n",
    "    def __init__(self, data):\n",
    "        self.data = torch.tensor(data, dtype = torch.float32)\n",
    "    \n",
    "    def __len__(self):\n",
    "        return len(self.data)\n",
    "    \n",
    "    def __getitem__(self, idx):\n",
    "        return self.data[idx]\n",
    "\n",
    "dataset = IrisDataset(X)\n",
    "dataloader = DataLoader(dataset, batch_size = 32, shuffle = True)\n",
    "\n",
    "for batch in dataloader:\n",
    "    print(f'{batch.shape}\\n{batch}')\n",
    "    break"
   ]
  },
  {
   "cell_type": "code",
   "execution_count": 31,
   "id": "43d455f4",
   "metadata": {
    "ExecuteTime": {
     "end_time": "2024-12-06T16:13:25.622483Z",
     "start_time": "2024-12-06T16:13:25.617979Z"
    }
   },
   "outputs": [
    {
     "data": {
      "text/plain": [
       "[10, 9, 8, 7, 6, 5, 4, 3, 2]"
      ]
     },
     "execution_count": 31,
     "metadata": {},
     "output_type": "execute_result"
    }
   ],
   "source": [
    "exp"
   ]
  },
  {
   "cell_type": "code",
   "execution_count": 37,
   "id": "001b7882",
   "metadata": {
    "ExecuteTime": {
     "end_time": "2024-12-06T16:15:40.592127Z",
     "start_time": "2024-12-06T16:15:40.517425Z"
    }
   },
   "outputs": [
    {
     "data": {
      "text/plain": [
       "ModuleList(\n",
       "  (0): Sequential(\n",
       "    (0): Linear(in_features=4096, out_features=2048, bias=True)\n",
       "    (1): ReLU()\n",
       "  )\n",
       "  (1): Sequential(\n",
       "    (0): Linear(in_features=2048, out_features=1024, bias=True)\n",
       "    (1): ReLU()\n",
       "  )\n",
       "  (2): Sequential(\n",
       "    (0): Linear(in_features=1024, out_features=512, bias=True)\n",
       "    (1): ReLU()\n",
       "  )\n",
       "  (3): Sequential(\n",
       "    (0): Linear(in_features=512, out_features=256, bias=True)\n",
       "    (1): ReLU()\n",
       "  )\n",
       "  (4): Sequential(\n",
       "    (0): Linear(in_features=256, out_features=128, bias=True)\n",
       "    (1): ReLU()\n",
       "  )\n",
       "  (5): Sequential(\n",
       "    (0): Linear(in_features=128, out_features=64, bias=True)\n",
       "    (1): ReLU()\n",
       "  )\n",
       "  (6): Sequential(\n",
       "    (0): Linear(in_features=64, out_features=32, bias=True)\n",
       "    (1): ReLU()\n",
       "  )\n",
       "  (7): Sequential(\n",
       "    (0): Linear(in_features=32, out_features=16, bias=True)\n",
       "    (1): ReLU()\n",
       "  )\n",
       "  (8): Sequential(\n",
       "    (0): Linear(in_features=16, out_features=8, bias=True)\n",
       "    (1): ReLU()\n",
       "  )\n",
       ")"
      ]
     },
     "execution_count": 37,
     "metadata": {},
     "output_type": "execute_result"
    }
   ],
   "source": [
    "latent_space_dim = 8\n",
    "max_width = 12\n",
    "\n",
    "layer_list = []\n",
    "\n",
    "exp = [exp for exp in range(max_width, int(math.log2(latent_space_dim)), -1)]\n",
    "\n",
    "nn.ModuleList([nn.Sequential(nn.Linear(2**i, 2**(i-1)), nn.ReLU()) for i in exp])"
   ]
  },
  {
   "cell_type": "code",
   "execution_count": 35,
   "id": "ac9f79c1",
   "metadata": {
    "ExecuteTime": {
     "end_time": "2024-12-06T16:14:13.928655Z",
     "start_time": "2024-12-06T16:14:13.912839Z"
    }
   },
   "outputs": [
    {
     "name": "stdout",
     "output_type": "stream",
     "text": [
      "[10, 9, 8, 7, 6, 5, 4, 3]\n"
     ]
    },
    {
     "data": {
      "text/plain": [
       "[Sequential(\n",
       "   (0): Linear(in_features=1024, out_features=512, bias=True)\n",
       " ),\n",
       " Sequential(\n",
       "   (0): Linear(in_features=512, out_features=256, bias=True)\n",
       " ),\n",
       " Sequential(\n",
       "   (0): Linear(in_features=256, out_features=128, bias=True)\n",
       " ),\n",
       " Sequential(\n",
       "   (0): Linear(in_features=128, out_features=64, bias=True)\n",
       " ),\n",
       " Sequential(\n",
       "   (0): Linear(in_features=64, out_features=32, bias=True)\n",
       " ),\n",
       " Sequential(\n",
       "   (0): Linear(in_features=32, out_features=16, bias=True)\n",
       " ),\n",
       " Sequential(\n",
       "   (0): Linear(in_features=16, out_features=8, bias=True)\n",
       " ),\n",
       " Sequential(\n",
       "   (0): Linear(in_features=8, out_features=4, bias=True)\n",
       " )]"
      ]
     },
     "execution_count": 35,
     "metadata": {},
     "output_type": "execute_result"
    }
   ],
   "source": [
    "latent_space_dim = 4\n",
    "max_width = 10\n",
    "\n",
    "layer_list = []\n",
    "\n",
    "\n",
    "exp = [exp for exp in range(max_width, int(math.log2(latent_space_dim)), -1)]\n",
    "print(exp)\n",
    "\n",
    "for i in exp:\n",
    "    layer_list.append(nn.Sequential(nn.Linear(2**i, 2**(i-1))))\n",
    "    \n",
    "layer_list"
   ]
  },
  {
   "cell_type": "code",
   "execution_count": 34,
   "id": "090151e9",
   "metadata": {
    "ExecuteTime": {
     "end_time": "2024-12-06T16:14:02.487716Z",
     "start_time": "2024-12-06T16:14:02.483587Z"
    }
   },
   "outputs": [
    {
     "data": {
      "text/plain": [
       "[10, 9, 8, 7, 6, 5, 4, 3]"
      ]
     },
     "execution_count": 34,
     "metadata": {},
     "output_type": "execute_result"
    }
   ],
   "source": [
    "exp"
   ]
  },
  {
   "cell_type": "code",
   "execution_count": 22,
   "id": "05ab5d4e",
   "metadata": {
    "ExecuteTime": {
     "end_time": "2024-12-06T16:07:41.577144Z",
     "start_time": "2024-12-06T16:07:41.505076Z"
    }
   },
   "outputs": [
    {
     "data": {
      "text/plain": [
       "[Sequential(\n",
       "   (0): Linear(in_features=4096, out_features=2048, bias=True)\n",
       "   (1): ReLU()\n",
       " ),\n",
       " Sequential(\n",
       "   (0): Linear(in_features=2048, out_features=1024, bias=True)\n",
       "   (1): ReLU()\n",
       " ),\n",
       " Sequential(\n",
       "   (0): Linear(in_features=1024, out_features=512, bias=True)\n",
       "   (1): ReLU()\n",
       " ),\n",
       " Sequential(\n",
       "   (0): Linear(in_features=512, out_features=256, bias=True)\n",
       "   (1): ReLU()\n",
       " ),\n",
       " Sequential(\n",
       "   (0): Linear(in_features=256, out_features=128, bias=True)\n",
       "   (1): ReLU()\n",
       " ),\n",
       " Sequential(\n",
       "   (0): Linear(in_features=128, out_features=64, bias=True)\n",
       "   (1): ReLU()\n",
       " ),\n",
       " Sequential(\n",
       "   (0): Linear(in_features=64, out_features=32, bias=True)\n",
       "   (1): ReLU()\n",
       " ),\n",
       " Sequential(\n",
       "   (0): Linear(in_features=32, out_features=16, bias=True)\n",
       "   (1): ReLU()\n",
       " ),\n",
       " Sequential(\n",
       "   (0): Linear(in_features=16, out_features=8, bias=True)\n",
       "   (1): ReLU()\n",
       " )]"
      ]
     },
     "execution_count": 22,
     "metadata": {},
     "output_type": "execute_result"
    }
   ],
   "source": [
    "latent_space_dim = 4\n",
    "max_width = 12\n",
    "\n",
    "layer_list = []\n",
    "\n",
    "for i in range(max_width, latent_space_dim - 1, -1):\n",
    "    if i == latent_space_dim - 1:\n",
    "        output_dim = int(math.log2(latent_space_dim))\n",
    "        layer_list.append(nn.Sequential(nn.Linear(2**i, 2**(output_dim))))\n",
    "        #print(i)\n",
    "        layer_list.append(nn.Sequential(nn.Linear(2**i, 2**(i-1)), nn.ReLU()))\n",
    "    else:\n",
    "        layer_list.append(nn.Sequential(nn.Linear(2**i, 2**(i-1)), nn.ReLU()))\n",
    "        #print(i)\n",
    "        \n",
    "        \n",
    "layer_list"
   ]
  },
  {
   "cell_type": "code",
   "execution_count": 6,
   "id": "5d0a8842",
   "metadata": {
    "ExecuteTime": {
     "end_time": "2024-12-06T16:00:50.936803Z",
     "start_time": "2024-12-06T16:00:50.861476Z"
    }
   },
   "outputs": [
    {
     "data": {
      "text/plain": [
       "Sequential(\n",
       "  (0): Linear(in_features=4096, out_features=2048, bias=True)\n",
       "  (1): ReLU()\n",
       "  (2): Linear(in_features=2048, out_features=1024, bias=True)\n",
       "  (3): ReLU()\n",
       "  (4): Linear(in_features=1024, out_features=512, bias=True)\n",
       "  (5): ReLU()\n",
       "  (6): Linear(in_features=512, out_features=256, bias=True)\n",
       "  (7): ReLU()\n",
       "  (8): Linear(in_features=256, out_features=128, bias=True)\n",
       "  (9): ReLU()\n",
       "  (10): Linear(in_features=128, out_features=64, bias=True)\n",
       "  (11): ReLU()\n",
       "  (12): Linear(in_features=64, out_features=32, bias=True)\n",
       "  (13): ReLU()\n",
       "  (14): Linear(in_features=32, out_features=16, bias=True)\n",
       "  (15): ReLU()\n",
       "  (16): Linear(in_features=16, out_features=4, bias=True)\n",
       ")"
      ]
     },
     "execution_count": 6,
     "metadata": {},
     "output_type": "execute_result"
    }
   ],
   "source": [
    "latent_space_dim = 4\n",
    "max_width = 12\n",
    "\n",
    "layer_list = []\n",
    "\n",
    "for i in range(max_width, latent_space_dim -1, -1):\n",
    "    input_dim = 2**i\n",
    "    output_dim = 2**(i-1)\n",
    "    if i != latent_space_dim:\n",
    "        layer_list.append(nn.Sequential(nn.Linear(input_dim, output_dim), nn.ReLU()))\n",
    "    elif i == latent_space_dim:\n",
    "        layer_list.append(nn.Sequential(nn.Linear(input_dim, latent_space_dim)))\n",
    "\n",
    "\n",
    "layer_list\n",
    "enc = nn.Sequential(*[layer for layers in layer_list for layer in layers])\n",
    "enc"
   ]
  },
  {
   "cell_type": "code",
   "execution_count": 7,
   "id": "f4d3d669",
   "metadata": {
    "ExecuteTime": {
     "end_time": "2024-12-06T16:02:05.402817Z",
     "start_time": "2024-12-06T16:02:05.399058Z"
    }
   },
   "outputs": [
    {
     "data": {
      "text/plain": [
       "2.0"
      ]
     },
     "execution_count": 7,
     "metadata": {},
     "output_type": "execute_result"
    }
   ],
   "source": [
    "import math\n",
    "math.log2(4)"
   ]
  },
  {
   "cell_type": "code",
   "execution_count": 19,
   "id": "01f10866",
   "metadata": {
    "ExecuteTime": {
     "end_time": "2024-12-06T15:54:17.392133Z",
     "start_time": "2024-12-06T15:54:17.387657Z"
    }
   },
   "outputs": [
    {
     "data": {
      "text/plain": [
       "[Sequential(\n",
       "   (0): Linear(in_features=1024, out_features=512, bias=True)\n",
       "   (1): ReLU()\n",
       " ),\n",
       " Sequential(\n",
       "   (0): Linear(in_features=512, out_features=256, bias=True)\n",
       "   (1): ReLU()\n",
       " ),\n",
       " Sequential(\n",
       "   (0): Linear(in_features=256, out_features=128, bias=True)\n",
       "   (1): ReLU()\n",
       " ),\n",
       " Sequential(\n",
       "   (0): Linear(in_features=128, out_features=64, bias=True)\n",
       "   (1): ReLU()\n",
       " ),\n",
       " Sequential(\n",
       "   (0): Linear(in_features=64, out_features=32, bias=True)\n",
       "   (1): ReLU()\n",
       " ),\n",
       " Sequential(\n",
       "   (0): Linear(in_features=32, out_features=16, bias=True)\n",
       "   (1): ReLU()\n",
       " ),\n",
       " Sequential(\n",
       "   (0): Linear(in_features=16, out_features=8, bias=True)\n",
       "   (1): ReLU()\n",
       " )]"
      ]
     },
     "execution_count": 19,
     "metadata": {},
     "output_type": "execute_result"
    }
   ],
   "source": [
    "layer_list"
   ]
  },
  {
   "cell_type": "code",
   "execution_count": null,
   "id": "f38c590b",
   "metadata": {},
   "outputs": [],
   "source": []
  }
 ],
 "metadata": {
  "kernelspec": {
   "display_name": "Python 3 (ipykernel)",
   "language": "python",
   "name": "python3"
  },
  "language_info": {
   "codemirror_mode": {
    "name": "ipython",
    "version": 3
   },
   "file_extension": ".py",
   "mimetype": "text/x-python",
   "name": "python",
   "nbconvert_exporter": "python",
   "pygments_lexer": "ipython3",
   "version": "3.10.9"
  },
  "varInspector": {
   "cols": {
    "lenName": 16,
    "lenType": 16,
    "lenVar": 40
   },
   "kernels_config": {
    "python": {
     "delete_cmd_postfix": "",
     "delete_cmd_prefix": "del ",
     "library": "var_list.py",
     "varRefreshCmd": "print(var_dic_list())"
    },
    "r": {
     "delete_cmd_postfix": ") ",
     "delete_cmd_prefix": "rm(",
     "library": "var_list.r",
     "varRefreshCmd": "cat(var_dic_list()) "
    }
   },
   "types_to_exclude": [
    "module",
    "function",
    "builtin_function_or_method",
    "instance",
    "_Feature"
   ],
   "window_display": false
  }
 },
 "nbformat": 4,
 "nbformat_minor": 5
}
