{
 "cells": [
  {
   "cell_type": "code",
   "execution_count": 1,
   "id": "46a364dc",
   "metadata": {
    "ExecuteTime": {
     "end_time": "2024-12-06T15:34:04.728414Z",
     "start_time": "2024-12-06T15:34:02.965198Z"
    }
   },
   "outputs": [],
   "source": [
    "import numpy as np\n",
    "import pandas as pd\n",
    "\n",
    "from sklearn.datasets import load_iris\n",
    "from sklearn.preprocessing import MinMaxScaler, StandardScaler\n",
    "from torch.utils.data import DataLoader, Dataset\n",
    "\n",
    "import torch\n",
    "import torch.nn as nn\n",
    "import torch.nn.functional as F\n",
    "import torch.optim as optim\n",
    "\n",
    "from tqdm.auto import tqdm"
   ]
  },
  {
   "cell_type": "code",
   "execution_count": 2,
   "id": "a415b40f",
   "metadata": {
    "ExecuteTime": {
     "end_time": "2024-12-06T15:34:07.761534Z",
     "start_time": "2024-12-06T15:34:07.715824Z"
    }
   },
   "outputs": [
    {
     "name": "stdout",
     "output_type": "stream",
     "text": [
      "Actual device: mps\n"
     ]
    }
   ],
   "source": [
    "if torch.cuda.is_available():\n",
    "    device = torch.device(\"cuda\")\n",
    "elif torch.backends.mps.is_available() and torch.backends.mps.is_built():\n",
    "    device = torch.device(\"mps\")\n",
    "else:\n",
    "    device = torch.device(\"cpu\")\n",
    "    \n",
    "    \n",
    "print(f'Actual device: {device}')"
   ]
  },
  {
   "cell_type": "code",
   "execution_count": 3,
   "id": "9a795705",
   "metadata": {
    "ExecuteTime": {
     "end_time": "2024-12-06T15:34:14.368389Z",
     "start_time": "2024-12-06T15:34:14.352972Z"
    }
   },
   "outputs": [
    {
     "data": {
      "text/plain": [
       "array([[0.22222222, 0.625     , 0.06779661, 0.04166667],\n",
       "       [0.16666667, 0.41666667, 0.06779661, 0.04166667],\n",
       "       [0.11111111, 0.5       , 0.05084746, 0.04166667],\n",
       "       [0.08333333, 0.45833333, 0.08474576, 0.04166667],\n",
       "       [0.19444444, 0.66666667, 0.06779661, 0.04166667],\n",
       "       [0.30555556, 0.79166667, 0.11864407, 0.125     ],\n",
       "       [0.08333333, 0.58333333, 0.06779661, 0.08333333],\n",
       "       [0.19444444, 0.58333333, 0.08474576, 0.04166667],\n",
       "       [0.02777778, 0.375     , 0.06779661, 0.04166667],\n",
       "       [0.16666667, 0.45833333, 0.08474576, 0.        ]])"
      ]
     },
     "execution_count": 3,
     "metadata": {},
     "output_type": "execute_result"
    }
   ],
   "source": [
    "X = load_iris()['data']\n",
    "X\n",
    "min_max = MinMaxScaler()\n",
    "X = min_max.fit_transform(X)\n",
    "X[:10]"
   ]
  },
  {
   "cell_type": "code",
   "execution_count": 4,
   "id": "2c537ca9",
   "metadata": {
    "ExecuteTime": {
     "end_time": "2024-12-06T15:34:21.441065Z",
     "start_time": "2024-12-06T15:34:21.401229Z"
    }
   },
   "outputs": [
    {
     "name": "stdout",
     "output_type": "stream",
     "text": [
      "torch.Size([32, 4])\n",
      "tensor([[0.2500, 0.6250, 0.0847, 0.0417],\n",
      "        [0.6667, 0.4167, 0.7119, 0.9167],\n",
      "        [0.7222, 0.4583, 0.6949, 0.9167],\n",
      "        [0.4167, 0.2917, 0.6949, 0.7500],\n",
      "        [0.3056, 0.5833, 0.0847, 0.1250],\n",
      "        [0.8056, 0.6667, 0.8644, 1.0000],\n",
      "        [0.4167, 0.8333, 0.0339, 0.0417],\n",
      "        [0.1944, 0.4167, 0.1017, 0.0417],\n",
      "        [0.5000, 0.4167, 0.6610, 0.7083],\n",
      "        [0.3889, 0.3750, 0.5424, 0.5000],\n",
      "        [0.7778, 0.4167, 0.8305, 0.8333],\n",
      "        [0.5833, 0.3750, 0.5593, 0.5000],\n",
      "        [0.3889, 0.7500, 0.1186, 0.0833],\n",
      "        [0.2222, 0.7083, 0.0847, 0.1250],\n",
      "        [0.1667, 0.4583, 0.0847, 0.0417],\n",
      "        [0.6944, 0.4167, 0.7627, 0.8333],\n",
      "        [0.3333, 0.2500, 0.5763, 0.4583],\n",
      "        [0.1667, 0.1667, 0.3898, 0.3750],\n",
      "        [0.1944, 0.6250, 0.0508, 0.0833],\n",
      "        [0.3889, 0.3333, 0.5254, 0.5000],\n",
      "        [0.1944, 0.5417, 0.0678, 0.0417],\n",
      "        [0.6667, 0.4583, 0.7797, 0.9583],\n",
      "        [0.2222, 0.7500, 0.1525, 0.1250],\n",
      "        [0.6667, 0.5417, 0.7966, 0.8333],\n",
      "        [0.3056, 0.7917, 0.0508, 0.1250],\n",
      "        [0.6667, 0.4167, 0.6780, 0.6667],\n",
      "        [0.4167, 0.2500, 0.5085, 0.4583],\n",
      "        [0.2222, 0.5833, 0.0847, 0.0417],\n",
      "        [0.5000, 0.2500, 0.7797, 0.5417],\n",
      "        [0.6667, 0.5417, 0.7966, 1.0000],\n",
      "        [0.4444, 0.4167, 0.5424, 0.5833],\n",
      "        [0.3611, 0.4167, 0.5254, 0.5000]])\n"
     ]
    }
   ],
   "source": [
    "class IrisDataset(Dataset):\n",
    "    def __init__(self, data):\n",
    "        self.data = torch.tensor(data, dtype = torch.float32)\n",
    "    \n",
    "    def __len__(self):\n",
    "        return len(self.data)\n",
    "    \n",
    "    def __getitem__(self, idx):\n",
    "        return self.data[idx]\n",
    "\n",
    "dataset = IrisDataset(X)\n",
    "dataloader = DataLoader(dataset, batch_size = 32, shuffle = True)\n",
    "\n",
    "for batch in dataloader:\n",
    "    print(f'{batch.shape}\\n{batch}')\n",
    "    break"
   ]
  },
  {
   "cell_type": "code",
   "execution_count": null,
   "id": "ab5dacc0",
   "metadata": {},
   "outputs": [],
   "source": []
  }
 ],
 "metadata": {
  "kernelspec": {
   "display_name": "Python 3 (ipykernel)",
   "language": "python",
   "name": "python3"
  },
  "language_info": {
   "codemirror_mode": {
    "name": "ipython",
    "version": 3
   },
   "file_extension": ".py",
   "mimetype": "text/x-python",
   "name": "python",
   "nbconvert_exporter": "python",
   "pygments_lexer": "ipython3",
   "version": "3.10.9"
  },
  "varInspector": {
   "cols": {
    "lenName": 16,
    "lenType": 16,
    "lenVar": 40
   },
   "kernels_config": {
    "python": {
     "delete_cmd_postfix": "",
     "delete_cmd_prefix": "del ",
     "library": "var_list.py",
     "varRefreshCmd": "print(var_dic_list())"
    },
    "r": {
     "delete_cmd_postfix": ") ",
     "delete_cmd_prefix": "rm(",
     "library": "var_list.r",
     "varRefreshCmd": "cat(var_dic_list()) "
    }
   },
   "types_to_exclude": [
    "module",
    "function",
    "builtin_function_or_method",
    "instance",
    "_Feature"
   ],
   "window_display": false
  }
 },
 "nbformat": 4,
 "nbformat_minor": 5
}
