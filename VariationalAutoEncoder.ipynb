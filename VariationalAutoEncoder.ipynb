{
 "cells": [
  {
   "cell_type": "code",
   "execution_count": 12,
   "id": "31543148",
   "metadata": {
    "ExecuteTime": {
     "end_time": "2024-12-06T16:03:05.096745Z",
     "start_time": "2024-12-06T16:03:05.091953Z"
    }
   },
   "outputs": [],
   "source": [
    "import numpy as np\n",
    "import pandas as pd\n",
    "import math\n",
    "\n",
    "from sklearn.datasets import load_iris\n",
    "from sklearn.preprocessing import MinMaxScaler, StandardScaler\n",
    "from torch.utils.data import DataLoader, Dataset\n",
    "\n",
    "import torch\n",
    "import torch.nn as nn\n",
    "import torch.nn.functional as F\n",
    "import torch.optim as optim\n",
    "\n",
    "from tqdm.auto import tqdm"
   ]
  },
  {
   "cell_type": "code",
   "execution_count": 2,
   "id": "91ed95e0",
   "metadata": {
    "ExecuteTime": {
     "end_time": "2024-12-06T16:00:44.954204Z",
     "start_time": "2024-12-06T16:00:44.887712Z"
    }
   },
   "outputs": [
    {
     "name": "stdout",
     "output_type": "stream",
     "text": [
      "Actual device: mps\n"
     ]
    }
   ],
   "source": [
    "if torch.cuda.is_available():\n",
    "    device = torch.device(\"cuda\")\n",
    "elif torch.backends.mps.is_available() and torch.backends.mps.is_built():\n",
    "    device = torch.device(\"mps\")\n",
    "else:\n",
    "    device = torch.device(\"cpu\")\n",
    "    \n",
    "    \n",
    "print(f'Actual device: {device}')"
   ]
  },
  {
   "cell_type": "code",
   "execution_count": 3,
   "id": "4d42133d",
   "metadata": {
    "ExecuteTime": {
     "end_time": "2024-12-06T16:00:45.694008Z",
     "start_time": "2024-12-06T16:00:45.679699Z"
    }
   },
   "outputs": [
    {
     "data": {
      "text/plain": [
       "array([[0.22222222, 0.625     , 0.06779661, 0.04166667],\n",
       "       [0.16666667, 0.41666667, 0.06779661, 0.04166667],\n",
       "       [0.11111111, 0.5       , 0.05084746, 0.04166667],\n",
       "       [0.08333333, 0.45833333, 0.08474576, 0.04166667],\n",
       "       [0.19444444, 0.66666667, 0.06779661, 0.04166667],\n",
       "       [0.30555556, 0.79166667, 0.11864407, 0.125     ],\n",
       "       [0.08333333, 0.58333333, 0.06779661, 0.08333333],\n",
       "       [0.19444444, 0.58333333, 0.08474576, 0.04166667],\n",
       "       [0.02777778, 0.375     , 0.06779661, 0.04166667],\n",
       "       [0.16666667, 0.45833333, 0.08474576, 0.        ]])"
      ]
     },
     "execution_count": 3,
     "metadata": {},
     "output_type": "execute_result"
    }
   ],
   "source": [
    "X = load_iris()['data']\n",
    "X\n",
    "min_max = MinMaxScaler()\n",
    "X = min_max.fit_transform(X)\n",
    "X[:10]"
   ]
  },
  {
   "cell_type": "code",
   "execution_count": 4,
   "id": "4c47fb6e",
   "metadata": {
    "ExecuteTime": {
     "end_time": "2024-12-06T16:00:46.274878Z",
     "start_time": "2024-12-06T16:00:46.244685Z"
    }
   },
   "outputs": [
    {
     "name": "stdout",
     "output_type": "stream",
     "text": [
      "torch.Size([32, 4])\n",
      "tensor([[0.6667, 0.5417, 0.7966, 1.0000],\n",
      "        [0.1111, 0.5000, 0.0508, 0.0417],\n",
      "        [0.6667, 0.4167, 0.7119, 0.9167],\n",
      "        [0.2500, 0.2917, 0.4915, 0.5417],\n",
      "        [0.1944, 0.5833, 0.1017, 0.1250],\n",
      "        [0.5000, 0.4167, 0.6610, 0.7083],\n",
      "        [0.1667, 0.4583, 0.0847, 0.0000],\n",
      "        [0.3056, 0.7917, 0.0508, 0.1250],\n",
      "        [0.9444, 0.3333, 0.9661, 0.7917],\n",
      "        [0.3333, 0.1667, 0.4576, 0.3750],\n",
      "        [0.3333, 0.2500, 0.5763, 0.4583],\n",
      "        [0.2222, 0.7500, 0.1017, 0.0417],\n",
      "        [0.1667, 0.2083, 0.5932, 0.6667],\n",
      "        [0.8611, 0.3333, 0.8644, 0.7500],\n",
      "        [0.3889, 0.3333, 0.5254, 0.5000],\n",
      "        [0.1667, 0.4167, 0.0678, 0.0417],\n",
      "        [0.6111, 0.5000, 0.6949, 0.7917],\n",
      "        [0.7222, 0.4583, 0.6949, 0.9167],\n",
      "        [0.1944, 0.4167, 0.1017, 0.0417],\n",
      "        [0.0278, 0.5000, 0.0508, 0.0417],\n",
      "        [0.5556, 0.5417, 0.6271, 0.6250],\n",
      "        [0.7222, 0.4583, 0.7458, 0.8333],\n",
      "        [0.3333, 0.1250, 0.5085, 0.5000],\n",
      "        [0.3056, 0.4167, 0.5932, 0.5833],\n",
      "        [0.2778, 0.7083, 0.0847, 0.0417],\n",
      "        [0.6667, 0.4583, 0.5763, 0.5417],\n",
      "        [0.1944, 0.5000, 0.0339, 0.0417],\n",
      "        [0.5556, 0.1250, 0.5763, 0.5000],\n",
      "        [0.6667, 0.2083, 0.8136, 0.7083],\n",
      "        [0.5833, 0.3333, 0.7797, 0.8333],\n",
      "        [0.4167, 0.2500, 0.5085, 0.4583],\n",
      "        [0.8333, 0.3750, 0.8983, 0.7083]])\n"
     ]
    }
   ],
   "source": [
    "class IrisDataset(Dataset):\n",
    "    def __init__(self, data):\n",
    "        self.data = torch.tensor(data, dtype = torch.float32)\n",
    "    \n",
    "    def __len__(self):\n",
    "        return len(self.data)\n",
    "    \n",
    "    def __getitem__(self, idx):\n",
    "        return self.data[idx]\n",
    "\n",
    "dataset = IrisDataset(X)\n",
    "dataloader = DataLoader(dataset, batch_size = 32, shuffle = True)\n",
    "\n",
    "for batch in dataloader:\n",
    "    print(f'{batch.shape}\\n{batch}')\n",
    "    break"
   ]
  },
  {
   "cell_type": "code",
   "execution_count": 93,
   "id": "51c6bab9",
   "metadata": {
    "ExecuteTime": {
     "end_time": "2024-12-06T16:52:18.358285Z",
     "start_time": "2024-12-06T16:52:18.322458Z"
    }
   },
   "outputs": [
    {
     "data": {
      "text/plain": [
       "VariationalAutoEncoder(\n",
       "  (Encoder): Sequential(\n",
       "    (0): Linear(in_features=4, out_features=1024, bias=True)\n",
       "    (1): ReLU()\n",
       "    (2): Linear(in_features=1024, out_features=922, bias=True)\n",
       "    (3): ReLU()\n",
       "    (4): Linear(in_features=922, out_features=820, bias=True)\n",
       "    (5): ReLU()\n",
       "    (6): Linear(in_features=820, out_features=718, bias=True)\n",
       "    (7): ReLU()\n",
       "    (8): Linear(in_features=718, out_features=616, bias=True)\n",
       "    (9): ReLU()\n",
       "    (10): Linear(in_features=616, out_features=514, bias=True)\n",
       "    (11): ReLU()\n",
       "    (12): Linear(in_features=514, out_features=412, bias=True)\n",
       "    (13): ReLU()\n",
       "    (14): Linear(in_features=412, out_features=310, bias=True)\n",
       "    (15): ReLU()\n",
       "    (16): Linear(in_features=310, out_features=208, bias=True)\n",
       "    (17): ReLU()\n",
       "    (18): Linear(in_features=208, out_features=106, bias=True)\n",
       "    (19): ReLU()\n",
       "    (20): Linear(in_features=106, out_features=4, bias=True)\n",
       "  )\n",
       ")"
      ]
     },
     "execution_count": 93,
     "metadata": {},
     "output_type": "execute_result"
    }
   ],
   "source": [
    "class VariationalAutoEncoder(nn.Module):\n",
    "    def __init__(self, \n",
    "                 enc_input_dim = 4, \n",
    "                 encoder_layers = 10,\n",
    "                 encoder_max_width = 1024,\n",
    "                 latent_space_dim = 4):\n",
    "        super(VariationalAutoEncoder, self).__init__()\n",
    "        \n",
    "        encoder_layers_width = [neurons for neurons in range(max_width, latent_space_dim, -int(encoder_max_width/encoder_layers))]\n",
    "        encoder_layers_width.insert(0, enc_input_dim)\n",
    "        encoder_layers_width.append(latent_space_dim)\n",
    "        \n",
    "        encoder_layers = []\n",
    "        \n",
    "        for i in range(len(encoder_layers_width) - 1):\n",
    "            \n",
    "            input_dim = encoder_layers_width[i]\n",
    "            output_dim = encoder_layers_width[i + 1]\n",
    "            \n",
    "            encoder_layers.append(nn.Linear(input_dim, output_dim))\n",
    "            \n",
    "            if i != len(encoder_layers_width) - 2:\n",
    "                encoder_layers.append(nn.ReLU())\n",
    "                \n",
    "        self.Encoder = nn.Sequential(*encoder_layers)\n",
    "        \n",
    "vae = VariationalAutoEncoder()\n",
    "vae"
   ]
  },
  {
   "cell_type": "code",
   "execution_count": null,
   "id": "97d516f5",
   "metadata": {},
   "outputs": [],
   "source": []
  }
 ],
 "metadata": {
  "kernelspec": {
   "display_name": "Python 3 (ipykernel)",
   "language": "python",
   "name": "python3"
  },
  "language_info": {
   "codemirror_mode": {
    "name": "ipython",
    "version": 3
   },
   "file_extension": ".py",
   "mimetype": "text/x-python",
   "name": "python",
   "nbconvert_exporter": "python",
   "pygments_lexer": "ipython3",
   "version": "3.10.9"
  },
  "varInspector": {
   "cols": {
    "lenName": 16,
    "lenType": 16,
    "lenVar": 40
   },
   "kernels_config": {
    "python": {
     "delete_cmd_postfix": "",
     "delete_cmd_prefix": "del ",
     "library": "var_list.py",
     "varRefreshCmd": "print(var_dic_list())"
    },
    "r": {
     "delete_cmd_postfix": ") ",
     "delete_cmd_prefix": "rm(",
     "library": "var_list.r",
     "varRefreshCmd": "cat(var_dic_list()) "
    }
   },
   "types_to_exclude": [
    "module",
    "function",
    "builtin_function_or_method",
    "instance",
    "_Feature"
   ],
   "window_display": false
  }
 },
 "nbformat": 4,
 "nbformat_minor": 5
}
